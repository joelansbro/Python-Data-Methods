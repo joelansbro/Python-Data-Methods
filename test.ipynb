{
 "cells": [
  {
   "cell_type": "code",
   "execution_count": null,
   "id": "1f2a20f3",
   "metadata": {},
   "outputs": [],
   "source": [
    "import pandas as pb\n",
    "import matplotlib.pyplot as plt"
   ]
  },
  {
   "cell_type": "code",
   "execution_count": null,
   "id": "1f4cfc48",
   "metadata": {},
   "outputs": [],
   "source": [
    "df = pb.read_excel('data/test.xlsx')"
   ]
  },
  {
   "cell_type": "code",
   "execution_count": null,
   "id": "160ef865",
   "metadata": {},
   "outputs": [],
   "source": [
    "df.head()"
   ]
  },
  {
   "cell_type": "code",
   "execution_count": null,
   "id": "163fdcf0",
   "metadata": {},
   "outputs": [],
   "source": [
    "df['weight'].value_counts()"
   ]
  },
  {
   "cell_type": "code",
   "execution_count": null,
   "id": "48ff2d76",
   "metadata": {},
   "outputs": [],
   "source": [
    "df['height'].value_counts()"
   ]
  },
  {
   "cell_type": "code",
   "execution_count": null,
   "id": "acdf3b6a",
   "metadata": {},
   "outputs": [],
   "source": [
    "df['length'].value_counts()"
   ]
  },
  {
   "cell_type": "code",
   "execution_count": null,
   "id": "9dcc1485",
   "metadata": {},
   "outputs": [],
   "source": [
    "readout = df['length'].value_counts()"
   ]
  },
  {
   "cell_type": "code",
   "execution_count": null,
   "id": "554d0d1a",
   "metadata": {},
   "outputs": [],
   "source": [
    "print(readout)"
   ]
  },
  {
   "cell_type": "code",
   "execution_count": null,
   "id": "9aaa18eb",
   "metadata": {},
   "outputs": [],
   "source": [
    "(df == 0).sum(axis=0)"
   ]
  },
  {
   "cell_type": "code",
   "execution_count": null,
   "id": "0a0198de",
   "metadata": {},
   "outputs": [],
   "source": []
  }
 ],
 "metadata": {
  "kernelspec": {
   "display_name": "Python 3 (ipykernel)",
   "language": "python",
   "name": "python3"
  },
  "language_info": {
   "codemirror_mode": {
    "name": "ipython",
    "version": 3
   },
   "file_extension": ".py",
   "mimetype": "text/x-python",
   "name": "python",
   "nbconvert_exporter": "python",
   "pygments_lexer": "ipython3",
   "version": "3.10.1"
  }
 },
 "nbformat": 4,
 "nbformat_minor": 5
}
