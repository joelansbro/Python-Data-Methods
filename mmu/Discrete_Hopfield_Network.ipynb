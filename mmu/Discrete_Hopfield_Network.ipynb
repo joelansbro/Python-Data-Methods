{
 "cells": [
  {
   "cell_type": "code",
   "execution_count": 1,
   "metadata": {},
   "outputs": [
    {
     "data": {
      "image/png": "[encoded data removed]",
      "text/plain": [
       "<Figure size 720x360 with 5 Axes>"
      ]
     },
     "metadata": {},
     "output_type": "display_data"
    },
    {
     "name": "stdout",
     "output_type": "stream",
     "text": [
      "Pattern index= 1\n"
     ]
    },
    {
     "data": {
      "image/png": "[encoded data removed]",
      "text/plain": [
       "<Figure size 720x360 with 2 Axes>"
      ]
     },
     "metadata": {},
     "output_type": "display_data"
    }
   ],
   "source": [
    "import matplotlib.pyplot as plt\n",
    "import numpy as np\n",
    "import random\n",
    "\n",
    "\n",
    "nb_patterns = 5\n",
    "pattern_width = 9\n",
    "pattern_height = 9\n",
    "max_iterations = 81\n",
    "\n",
    "# Initialize the patterns\n",
    "X = np.zeros((nb_patterns, pattern_width * pattern_height))\n",
    "\n",
    "X[0] = [-1, -1, -1, -1, -1, -1, -1, -1, -1, -1, -1, -1, 1, 1, 1, -1, -1, -1, -1, -1, 1, 1, -1, 1, 1, -1, -1, -1, -1, 1, 1, -1, \n",
    " 1, 1, -1, -1, -1, -1, 1, 1, -1, 1, 1, -1, -1, -1, -1, 1, 1, -1, 1, 1, -1, -1, -1, -1, 1, 1, -1, 1, 1, -1, -1, -1, -1, -1, 1, 1, \n",
    " 1, -1, -1, -1, -1, -1, -1, -1, -1, -1, -1, -1, -1]\n",
    "X[1] = [-1, -1, -1, 1, 1, 1, -1, -1, -1, -1, -1, -1, 1, 1, 1, -1, -1, -1, -1, -1, -1, 1, 1, 1, -1, -1, -1, -1, -1, -1, 1, 1, 1,\n",
    " -1, -1, -1, -1, -1, -1, 1, 1, 1, -1, -1, -1, -1, -1, -1, 1, 1, 1, -1, -1, -1, -1, -1, -1, 1, 1, 1, -1, -1, -1, -1, -1, -1, 1, 1,\n",
    " 1, -1, -1, -1, -1, -1, -1, 1, 1, 1, -1, -1, -1]\n",
    "X[2] = [-1, -1, 1, 1, 1, 1, 1, -1, -1, -1, 1, -1,\t-1, -1, -1, -1,\t1, -1,\t-1, -1, -1, -1,\t-1, -1, -1, 1, -1,\t-1, -1, -1, -1,\t\n",
    " -1, -1, 1,\t-1, -1,\t-1, -1, -1, -1,\t-1, 1, -1,\t-1, -1,   -1, -1, -1, -1, 1, -1, -1, -1,\t-1,   -1, -1, -1, 1, -1, -1, -1,\t-1, -1, \n",
    " -1, -1,\t1, -1, -1,\t-1, -1, -1, -1,\t -1, 1, 1, 1, 1, 1, 1, 1, -1]\n",
    "X[3] = [-1, 1, 1, -1, -1, -1, 1, 1, -1,  -1, 1, 1, -1, -1, -1, 1, 1, -1, -1, 1, 1, -1, -1, -1, 1, 1, -1, -1, 1, 1, -1, -1, -1, 1, \n",
    " 1, -1, -1,  1, 1, 1, 1, 1, 1, 1, -1,  -1, -1, -1, -1, -1, -1, 1, 1, -1, -1, -1, -1, -1, -1, -1, 1, 1, -1,  -1, -1, -1, -1, -1, \n",
    " -1, 1, 1, -1,  -1, -1, -1, -1, -1, -1, 1, 1, -1]\n",
    "X[4] = [1, 1, 1, 1, 1, 1, -1, -1, -1,  1, 1, -1, -1, -1, -1, -1, -1, -1, 1, 1, -1, -1, -1, -1, -1, -1, -1,  1, 1, 1, 1, 1, 1, -1, \n",
    " -1, -1, 1, 1, -1, -1, 1, 1, -1, -1, -1, 1, 1, -1, -1, 1, 1, -1, -1, -1,  1, 1, -1, -1, 1, 1, -1, -1, -1, 1, 1, -1, -1, 1, 1, -1, \n",
    " -1, -1, 1, 1, 1, 1, 1, 1, -1, -1, -1]\n",
    "\n",
    "# Show the patterns\n",
    "fig, ax = plt.subplots(1, nb_patterns, figsize=(10, 5))\n",
    "\n",
    "for i in range(nb_patterns):\n",
    "    ax[i].matshow(X[i].reshape((pattern_height, pattern_width)), cmap='gray')\n",
    "    ax[i].set_xticks([])\n",
    "    ax[i].set_yticks([])\n",
    "    \n",
    "plt.show()\n",
    "\n",
    "W = ((np.outer(X[0],X[0])+np.outer(X[1],X[1])+np.outer(X[2],X[2])+np.outer(X[3],X[3])+np.outer(X[4],X[4]))-5*np.identity(81))/81\n",
    "\n",
    "def hsgn(v, x):\n",
    "    if v>0:\n",
    "        return 1\n",
    "    elif v == 0:\n",
    "        return x\n",
    "    else:\n",
    "        return -1\n",
    "        \n",
    "# Create a corrupted test pattern\n",
    "\n",
    "noiselevel = 1/3\n",
    "values = list(range(nb_patterns))\n",
    "patInd = random.choice(values)\n",
    "Y = np.array(X[patInd])\n",
    "x_test = np.array((2*(np.random.rand(81, 1).flatten() > noiselevel)-1)*Y)\n",
    "x_test.flatten()\n",
    "print('Pattern index=',patInd)\n",
    "\n",
    "# Recover the original patterns\n",
    "A = x_test.copy()\n",
    "A.flatten()\n",
    "\n",
    "n=np.random.permutation(81)\n",
    "\n",
    "for _ in range(max_iterations):\n",
    "    for j in range(81):\n",
    "        A[n[j]]=hsgn(np.dot(W[n[j]],A), A[n[j]])\n",
    "\n",
    "\n",
    "# Show corrupted and recovered patterns\n",
    "fig, ax = plt.subplots(1, 2, figsize=(10, 5))\n",
    "\n",
    "ax[0].matshow(x_test.reshape(pattern_height, pattern_width), cmap='gray')\n",
    "ax[0].set_title('Corrupted pattern')\n",
    "ax[0].set_xticks([])\n",
    "ax[0].set_yticks([])\n",
    "\n",
    "ax[1].matshow(A.reshape(pattern_height, pattern_width), cmap='gray')\n",
    "ax[1].set_title('Recovered pattern')\n",
    "ax[1].set_xticks([])\n",
    "ax[1].set_yticks([])\n",
    "\n",
    "plt.show()"
   ]
  }
 ],
 "metadata": {
  "interpreter": {
   "hash": "842fbf2151771c5fab737f7e91cae4a6b3fd587e0ef9c8eecff0f9eb53e93c36"
  },
  "kernelspec": {
   "display_name": "Python 3.10.1 64-bit",
   "language": "python",
   "name": "python3"
  },
  "language_info": {
   "codemirror_mode": {
    "name": "ipython",
    "version": 3
   },
   "file_extension": ".py",
   "mimetype": "text/x-python",
   "name": "python",
   "nbconvert_exporter": "python",
   "pygments_lexer": "ipython3",
   "version": "3.10.1"
  },
  "orig_nbformat": 4
 },
 "nbformat": 4,
 "nbformat_minor": 2
}
