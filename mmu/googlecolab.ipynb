{
 "cells": [
  {
   "cell_type": "code",
   "execution_count": null,
   "metadata": {},
   "outputs": [],
   "source": [
    "import numpy as np\n",
    "import matplotlib.pyplot as plt\n",
    "from matplotlib import animation , rc\n",
    "from IPython.display import HTML\n",
    "fig , ax =plt.subplots()\n",
    "plt.close()\n",
    "ax.set_xlim((0,2*np.pi))\n",
    "ax.set_ylim((-2,2))\n",
    "line, = ax.plot([],[],lw=2)\n",
    "def init():\n",
    "  line.set_data([],[])\n",
    "  return (line,)\n",
    "def animate(n):\n",
    "  x=np.linspace(0,2*np.pi,100)\n",
    "  y=np.sin(0.05*x*n)\n",
    "  line.set_data(x , y)\n",
    "  return (line,)\n",
    "anim = animation.FuncAnimation(fig,animate,init_func=init,frames=100,interval=100,blit=True)\n",
    "rc('animation',html='jshtml')\n",
    "anim"
   ]
  }
 ],
 "metadata": {
  "language_info": {
   "name": "python"
  },
  "orig_nbformat": 4
 },
 "nbformat": 4,
 "nbformat_minor": 2
}
