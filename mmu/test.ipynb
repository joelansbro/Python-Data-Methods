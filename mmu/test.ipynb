{
 "cells": [
  {
   "cell_type": "code",
   "execution_count": null,
   "id": "1f2a20f3",
   "metadata": {},
   "outputs": [],
   "source": [
    "import pandas as pb\n",
    "import matplotlib.pyplot as plt\n",
    "\n",
    "df = pb.read_excel('data/test.xlsx')\n",
    "df.head()\n",
    "df['weight'].value_counts()\n",
    "df['height'].value_counts()\n",
    "df['length'].value_counts()\n",
    "readout = df['length'].value_counts()\n",
    "print(readout)\n",
    "(df == 0).sum(axis=0)"
   ]
  }
 ],
 "metadata": {
  "kernelspec": {
   "display_name": "Python 3 (ipykernel)",
   "language": "python",
   "name": "python3"
  },
  "language_info": {
   "codemirror_mode": {
    "name": "ipython",
    "version": 3
   },
   "file_extension": ".py",
   "mimetype": "text/x-python",
   "name": "python",
   "nbconvert_exporter": "python",
   "pygments_lexer": "ipython3",
   "version": "3.10.1"
  }
 },
 "nbformat": 4,
 "nbformat_minor": 5
}
