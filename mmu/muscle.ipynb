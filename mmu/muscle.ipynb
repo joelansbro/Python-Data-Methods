{
 "cells": [
  {
   "cell_type": "code",
   "execution_count": 4,
   "metadata": {},
   "outputs": [
    {
     "ename": "AttributeError",
     "evalue": "'list' object has no attribute 'length'",
     "output_type": "error",
     "traceback": [
      "\u001b[1;31m---------------------------------------------------------------------------\u001b[0m",
      "\u001b[1;31mAttributeError\u001b[0m                            Traceback (most recent call last)",
      "\u001b[1;32m~\\AppData\\Local\\Temp/ipykernel_9080/2842080015.py\u001b[0m in \u001b[0;36m<module>\u001b[1;34m\u001b[0m\n\u001b[0;32m     25\u001b[0m \u001b[0mL\u001b[0m \u001b[1;33m=\u001b[0m \u001b[0mA\u001b[0m\u001b[1;33m+\u001b[0m\u001b[0mB\u001b[0m\u001b[1;33m+\u001b[0m\u001b[0mC\u001b[0m\u001b[1;33m+\u001b[0m\u001b[0mD\u001b[0m\u001b[1;33m+\u001b[0m\u001b[0mE\u001b[0m\u001b[1;33m+\u001b[0m\u001b[0mF\u001b[0m\u001b[1;33m+\u001b[0m\u001b[0mG\u001b[0m\u001b[1;33m+\u001b[0m\u001b[0mH\u001b[0m\u001b[1;33m+\u001b[0m\u001b[0mHH\u001b[0m\u001b[1;33m+\u001b[0m\u001b[0mJ\u001b[0m\u001b[1;33m+\u001b[0m\u001b[0mK\u001b[0m\u001b[1;33m+\u001b[0m\u001b[0mKK\u001b[0m\u001b[1;33m\u001b[0m\u001b[1;33m\u001b[0m\u001b[0m\n\u001b[0;32m     26\u001b[0m \u001b[1;33m\u001b[0m\u001b[0m\n\u001b[1;32m---> 27\u001b[1;33m \u001b[0mprint\u001b[0m\u001b[1;33m(\u001b[0m\u001b[0mL\u001b[0m\u001b[1;33m.\u001b[0m\u001b[0mlength\u001b[0m\u001b[1;33m)\u001b[0m\u001b[1;33m\u001b[0m\u001b[1;33m\u001b[0m\u001b[0m\n\u001b[0m\u001b[0;32m     28\u001b[0m \u001b[1;31m# LSE = np.zeros(1200).tolist()\u001b[0m\u001b[1;33m\u001b[0m\u001b[1;33m\u001b[0m\u001b[0m\n\u001b[0;32m     29\u001b[0m \u001b[1;31m# LCE = np.zeros(1200).tolist()\u001b[0m\u001b[1;33m\u001b[0m\u001b[1;33m\u001b[0m\u001b[0m\n",
      "\u001b[1;31mAttributeError\u001b[0m: 'list' object has no attribute 'length'"
     ]
    }
   ],
   "source": [
    "import numpy as np\n",
    "import matplotlib.pyplot as plt\n",
    "\n",
    "Length, a, b = 1200, 380 * 0.098, 0.325\n",
    "P0 = a / 0.257\n",
    "vm = P0 * b /a\n",
    "alpha = P0 / 0.1\n",
    "LSE0 = 0.3\n",
    "k = a / 25\n",
    "\n",
    "t = [0 + 0.01 * 1 for i in range(1201)] #Time\n",
    "# Stretch, hold and contract muscle periodically\n",
    "A = [1.001 + 0.001 * i for i in range(100)] # Length A\n",
    "B = [1.099 - 0.001 * i for i in range(100)] # Length B\n",
    "C = np.ones(100).tolist()\n",
    "D = [0.999 - 0.001 * i for i in range(100)]\n",
    "E = [0.901 + 0.001 * i for i in range(100)]\n",
    "F = np.ones(100).tolist()\n",
    "G = [1.001 + 0.001 * i for i in range(100)] # Length A\n",
    "H = [1.099 - 0.001 * i for i in range(100)] # Length B\n",
    "HH = np.ones(100).tolist()\n",
    "J = [0.999 - 0.001 * i for i in range(100)]\n",
    "K = [0.901 + 0.001 * i for i in range(100)]\n",
    "KK = np.ones(100).tolist()\n",
    "L = A+B+C+D+E+F+G+H+HH+J+K+KK\n",
    "\n",
    "print(L.length)\n",
    "LSE = np.zeros(1200).tolist()\n",
    "LCE = np.zeros(1200).tolist()\n",
    "P = np.zeros(1201).tolist()\n",
    "\n",
    "for i in range(1200):\n",
    "  LSE[i] = 0.3 * P[i] / alpha\n",
    "  LCE[i] = L[i] - LSE[i]\n",
    "  dt = t[i + 1] - t[i]\n",
    "  dL = L[i + 1] - L[i]\n",
    "  dP = alpha * ((dL/dt) + b * ((P0 - P[i]) / (a + P[i]))) * dt\n",
    "  P[i + 1] =P[i] + dP\n",
    "\n",
    "P = np.array(P)\n",
    "PP = (P0 / 100) * np.random.randn(1201)\n",
    "P = P + PP\n",
    "P = P.tolist()\n",
    "\n",
    "plt.figure()\n",
    "plt.plot(L, P)\n",
    "plt.xlabel('Fraction of Muscle Length mm', fontsize = 15)\n",
    "plt.ylabel('Force ($mN / mm^2$)', fontsize = 15)\n",
    "plt.tick_params(labelsize = 15)"
   ]
  },
  {
   "cell_type": "code",
   "execution_count": null,
   "metadata": {},
   "outputs": [],
   "source": []
  }
 ],
 "metadata": {
  "interpreter": {
   "hash": "842fbf2151771c5fab737f7e91cae4a6b3fd587e0ef9c8eecff0f9eb53e93c36"
  },
  "kernelspec": {
   "display_name": "Python 3.10.1 64-bit",
   "language": "python",
   "name": "python3"
  },
  "language_info": {
   "codemirror_mode": {
    "name": "ipython",
    "version": 3
   },
   "file_extension": ".py",
   "mimetype": "text/x-python",
   "name": "python",
   "nbconvert_exporter": "python",
   "pygments_lexer": "ipython3",
   "version": "3.10.1"
  },
  "orig_nbformat": 4
 },
 "nbformat": 4,
 "nbformat_minor": 2
}
